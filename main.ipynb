{
 "cells": [
  {
   "cell_type": "markdown",
   "id": "9caa00b4",
   "metadata": {},
   "source": [
    "# Classification of Sugarcane Diseases based on Images\n",
    "\n",
    "There are six (6) classes in total:\n",
    "- Banded Chlorosis\n",
    "- Brown Spot\n",
    "- Brown Rust\n",
    "- Viral\n",
    "- Yellow Leaf\n",
    "- Healthy"
   ]
  },
  {
   "cell_type": "code",
   "execution_count": null,
   "id": "b16387aa",
   "metadata": {},
   "outputs": [],
   "source": [
    "# Import the data set\n",
    "# It is expected to be in the path ./train/<Class_Name>"
   ]
  }
 ],
 "metadata": {
  "kernelspec": {
   "display_name": "Python 3",
   "language": "python",
   "name": "python3"
  },
  "language_info": {
   "name": "python",
   "version": "3.13.2"
  }
 },
 "nbformat": 4,
 "nbformat_minor": 5
}
